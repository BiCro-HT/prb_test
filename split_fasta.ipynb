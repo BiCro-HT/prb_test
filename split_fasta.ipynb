{
 "cells": [
  {
   "cell_type": "code",
   "execution_count": 42,
   "metadata": {},
   "outputs": [],
   "source": [
    "from Bio.SeqIO.FastaIO import SimpleFastaParser\n",
    "from Bio import SeqIO\n"
   ]
  },
  {
   "cell_type": "code",
   "execution_count": 43,
   "metadata": {},
   "outputs": [],
   "source": [
    "ref_genome = './data/ref/GCF_009914755.1_T2T-CHM13v2.0_genomic.fna'\n",
    "ref_genome2 = './data/ref/genome.fa'"
   ]
  },
  {
   "cell_type": "code",
   "execution_count": 44,
   "metadata": {},
   "outputs": [
    {
     "name": "stdout",
     "output_type": "stream",
     "text": [
      "NC_060925.1 Homo sapiens isolate CHM13 chromosome 1, alternate assembly T2T-CHM13v2.0\n",
      "NC_060926.1 Homo sapiens isolate CHM13 chromosome 2, alternate assembly T2T-CHM13v2.0\n",
      "NC_060927.1 Homo sapiens isolate CHM13 chromosome 3, alternate assembly T2T-CHM13v2.0\n",
      "NC_060928.1 Homo sapiens isolate CHM13 chromosome 4, alternate assembly T2T-CHM13v2.0\n",
      "NC_060929.1 Homo sapiens isolate CHM13 chromosome 5, alternate assembly T2T-CHM13v2.0\n",
      "NC_060930.1 Homo sapiens isolate CHM13 chromosome 6, alternate assembly T2T-CHM13v2.0\n",
      "NC_060931.1 Homo sapiens isolate CHM13 chromosome 7, alternate assembly T2T-CHM13v2.0\n",
      "NC_060932.1 Homo sapiens isolate CHM13 chromosome 8, alternate assembly T2T-CHM13v2.0\n",
      "NC_060933.1 Homo sapiens isolate CHM13 chromosome 9, alternate assembly T2T-CHM13v2.0\n",
      "NC_060934.1 Homo sapiens isolate CHM13 chromosome 10, alternate assembly T2T-CHM13v2.0\n",
      "NC_060935.1 Homo sapiens isolate CHM13 chromosome 11, alternate assembly T2T-CHM13v2.0\n",
      "NC_060936.1 Homo sapiens isolate CHM13 chromosome 12, alternate assembly T2T-CHM13v2.0\n",
      "NC_060937.1 Homo sapiens isolate CHM13 chromosome 13, alternate assembly T2T-CHM13v2.0\n",
      "NC_060938.1 Homo sapiens isolate CHM13 chromosome 14, alternate assembly T2T-CHM13v2.0\n",
      "NC_060939.1 Homo sapiens isolate CHM13 chromosome 15, alternate assembly T2T-CHM13v2.0\n",
      "NC_060940.1 Homo sapiens isolate CHM13 chromosome 16, alternate assembly T2T-CHM13v2.0\n",
      "NC_060941.1 Homo sapiens isolate CHM13 chromosome 17, alternate assembly T2T-CHM13v2.0\n",
      "NC_060942.1 Homo sapiens isolate CHM13 chromosome 18, alternate assembly T2T-CHM13v2.0\n",
      "NC_060943.1 Homo sapiens isolate CHM13 chromosome 19, alternate assembly T2T-CHM13v2.0\n",
      "NC_060944.1 Homo sapiens isolate CHM13 chromosome 20, alternate assembly T2T-CHM13v2.0\n",
      "NC_060945.1 Homo sapiens isolate CHM13 chromosome 21, alternate assembly T2T-CHM13v2.0\n",
      "NC_060946.1 Homo sapiens isolate CHM13 chromosome 22, alternate assembly T2T-CHM13v2.0\n",
      "NC_060947.1 Homo sapiens isolate CHM13 chromosome X, alternate assembly T2T-CHM13v2.0\n",
      "NC_060948.1 Homo sapiens isolate NA24385 chromosome Y, alternate assembly T2T-CHM13v2.0\n",
      "24\n"
     ]
    }
   ],
   "source": [
    "identifier = []\n",
    "sequence = []\n",
    "with open(ref_genome) as ref:\n",
    "    for title, seq in SimpleFastaParser(ref):\n",
    "        identifier.append(title)\n",
    "        sequence = seq\n",
    "\n",
    "print(\"\\n\".join(identifier))\n",
    "print(len(identifier))"
   ]
  },
  {
   "cell_type": "code",
   "execution_count": 45,
   "metadata": {},
   "outputs": [],
   "source": [
    "idx= identifier[0].replace(',', '')"
   ]
  },
  {
   "cell_type": "code",
   "execution_count": 46,
   "metadata": {},
   "outputs": [
    {
     "data": {
      "text/plain": [
       "['NC_060925.1',\n",
       " 'Homo',\n",
       " 'sapiens',\n",
       " 'isolate',\n",
       " 'CHM13',\n",
       " 'chromosome',\n",
       " '1',\n",
       " 'alternate',\n",
       " 'assembly',\n",
       " 'T2T-CHM13v2.0']"
      ]
     },
     "execution_count": 46,
     "metadata": {},
     "output_type": "execute_result"
    }
   ],
   "source": [
    "idx.split(' ')"
   ]
  },
  {
   "cell_type": "code",
   "execution_count": 47,
   "metadata": {},
   "outputs": [
    {
     "name": "stdout",
     "output_type": "stream",
     "text": [
      "T2T-CHM13v2.0.chr1\n",
      "T2T-CHM13v2.0.chr2\n",
      "T2T-CHM13v2.0.chr3\n",
      "T2T-CHM13v2.0.chr4\n",
      "T2T-CHM13v2.0.chr5\n",
      "T2T-CHM13v2.0.chr6\n",
      "T2T-CHM13v2.0.chr7\n",
      "T2T-CHM13v2.0.chr8\n",
      "T2T-CHM13v2.0.chr9\n",
      "T2T-CHM13v2.0.chr10\n",
      "T2T-CHM13v2.0.chr11\n",
      "T2T-CHM13v2.0.chr12\n",
      "T2T-CHM13v2.0.chr13\n",
      "T2T-CHM13v2.0.chr14\n",
      "T2T-CHM13v2.0.chr15\n",
      "T2T-CHM13v2.0.chr16\n",
      "T2T-CHM13v2.0.chr17\n",
      "T2T-CHM13v2.0.chr18\n",
      "T2T-CHM13v2.0.chr19\n",
      "T2T-CHM13v2.0.chr20\n",
      "T2T-CHM13v2.0.chr21\n",
      "T2T-CHM13v2.0.chr22\n",
      "T2T-CHM13v2.0.chrX\n",
      "T2T-CHM13v2.0.chrY\n"
     ]
    }
   ],
   "source": [
    "for idx in identifier:\n",
    "    ids = idx.replace(',', '').split(' ')\n",
    "    genome = ids[-1]\n",
    "    for j,id in enumerate(ids):\n",
    "        \n",
    "        if id == 'chromosome':\n",
    "            chr = f'chr{ids[j+1]}'\n",
    "            \n",
    "            name = f'{genome}.{chr}'\n",
    "            print(name)"
   ]
  },
  {
   "cell_type": "code",
   "execution_count": null,
   "metadata": {},
   "outputs": [],
   "source": []
  },
  {
   "cell_type": "code",
   "execution_count": null,
   "metadata": {},
   "outputs": [],
   "source": []
  }
 ],
 "metadata": {
  "kernelspec": {
   "display_name": "prb-test-orthS4nb-py3.11",
   "language": "python",
   "name": "python3"
  },
  "language_info": {
   "codemirror_mode": {
    "name": "ipython",
    "version": 3
   },
   "file_extension": ".py",
   "mimetype": "text/x-python",
   "name": "python",
   "nbconvert_exporter": "python",
   "pygments_lexer": "ipython3",
   "version": "3.11.5"
  }
 },
 "nbformat": 4,
 "nbformat_minor": 2
}
