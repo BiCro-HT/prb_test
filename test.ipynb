{
 "cells": [
  {
   "cell_type": "code",
   "execution_count": 1,
   "metadata": {},
   "outputs": [],
   "source": [
    "import requests\n",
    "import os"
   ]
  },
  {
   "cell_type": "code",
   "execution_count": 2,
   "metadata": {},
   "outputs": [],
   "source": [
    "r = requests.get('https://ftp.ensembl.org/pub/release-110/fasta/homo_sapiens/dna/')"
   ]
  },
  {
   "cell_type": "code",
   "execution_count": 3,
   "metadata": {},
   "outputs": [
    {
     "name": "stdout",
     "output_type": "stream",
     "text": [
      "['Homo_sapiens.GRCh38.dna.alt.fa.gz', 'Homo_sapiens.GRCh38.dna.chromosome.1.fa.gz', 'Homo_sapiens.GRCh38.dna.chromosome.2.fa.gz', 'Homo_sapiens.GRCh38.dna.chromosome.3.fa.gz', 'Homo_sapiens.GRCh38.dna.chromosome.4.fa.gz', 'Homo_sapiens.GRCh38.dna.chromosome.5.fa.gz', 'Homo_sapiens.GRCh38.dna.chromosome.6.fa.gz', 'Homo_sapiens.GRCh38.dna.chromosome.7.fa.gz', 'Homo_sapiens.GRCh38.dna.chromosome.8.fa.gz', 'Homo_sapiens.GRCh38.dna.chromosome.9.fa.gz', 'Homo_sapiens.GRCh38.dna.chromosome.10.fa.gz', 'Homo_sapiens.GRCh38.dna.chromosome.11.fa.gz', 'Homo_sapiens.GRCh38.dna.chromosome.12.fa.gz', 'Homo_sapiens.GRCh38.dna.chromosome.13.fa.gz', 'Homo_sapiens.GRCh38.dna.chromosome.14.fa.gz', 'Homo_sapiens.GRCh38.dna.chromosome.15.fa.gz', 'Homo_sapiens.GRCh38.dna.chromosome.16.fa.gz', 'Homo_sapiens.GRCh38.dna.chromosome.17.fa.gz', 'Homo_sapiens.GRCh38.dna.chromosome.18.fa.gz', 'Homo_sapiens.GRCh38.dna.chromosome.19.fa.gz', 'Homo_sapiens.GRCh38.dna.chromosome.20.fa.gz', 'Homo_sapiens.GRCh38.dna.chromosome.21.fa.gz', 'Homo_sapiens.GRCh38.dna.chromosome.22.fa.gz', 'Homo_sapiens.GRCh38.dna.chromosome.MT.fa.gz', 'Homo_sapiens.GRCh38.dna.chromosome.X.fa.gz', 'Homo_sapiens.GRCh38.dna.chromosome.Y.fa.gz', 'Homo_sapiens.GRCh38.dna.nonchromosomal.fa.gz', 'Homo_sapiens.GRCh38.dna.primary_assembly.fa.gz', 'Homo_sapiens.GRCh38.dna.toplevel.fa.gz', 'Homo_sapiens.GRCh38.dna_rm.alt.fa.gz', 'Homo_sapiens.GRCh38.dna_rm.chromosome.1.fa.gz', 'Homo_sapiens.GRCh38.dna_rm.chromosome.2.fa.gz', 'Homo_sapiens.GRCh38.dna_rm.chromosome.3.fa.gz', 'Homo_sapiens.GRCh38.dna_rm.chromosome.4.fa.gz', 'Homo_sapiens.GRCh38.dna_rm.chromosome.5.fa.gz', 'Homo_sapiens.GRCh38.dna_rm.chromosome.6.fa.gz', 'Homo_sapiens.GRCh38.dna_rm.chromosome.7.fa.gz', 'Homo_sapiens.GRCh38.dna_rm.chromosome.8.fa.gz', 'Homo_sapiens.GRCh38.dna_rm.chromosome.9.fa.gz', 'Homo_sapiens.GRCh38.dna_rm.chromosome.10.fa.gz', 'Homo_sapiens.GRCh38.dna_rm.chromosome.11.fa.gz', 'Homo_sapiens.GRCh38.dna_rm.chromosome.12.fa.gz', 'Homo_sapiens.GRCh38.dna_rm.chromosome.13.fa.gz', 'Homo_sapiens.GRCh38.dna_rm.chromosome.14.fa.gz', 'Homo_sapiens.GRCh38.dna_rm.chromosome.15.fa.gz', 'Homo_sapiens.GRCh38.dna_rm.chromosome.16.fa.gz', 'Homo_sapiens.GRCh38.dna_rm.chromosome.17.fa.gz', 'Homo_sapiens.GRCh38.dna_rm.chromosome.18.fa.gz', 'Homo_sapiens.GRCh38.dna_rm.chromosome.19.fa.gz', 'Homo_sapiens.GRCh38.dna_rm.chromosome.20.fa.gz', 'Homo_sapiens.GRCh38.dna_rm.chromosome.21.fa.gz', 'Homo_sapiens.GRCh38.dna_rm.chromosome.22.fa.gz', 'Homo_sapiens.GRCh38.dna_rm.chromosome.MT.fa.gz', 'Homo_sapiens.GRCh38.dna_rm.chromosome.X.fa.gz', 'Homo_sapiens.GRCh38.dna_rm.chromosome.Y.fa.gz', 'Homo_sapiens.GRCh38.dna_rm.nonchromosomal.fa.gz', 'Homo_sapiens.GRCh38.dna_rm.primary_assembly.fa.gz', 'Homo_sapiens.GRCh38.dna_rm.toplevel.fa.gz', 'Homo_sapiens.GRCh38.dna_sm.alt.fa.gz', 'Homo_sapiens.GRCh38.dna_sm.chromosome.1.fa.gz', 'Homo_sapiens.GRCh38.dna_sm.chromosome.2.fa.gz', 'Homo_sapiens.GRCh38.dna_sm.chromosome.3.fa.gz', 'Homo_sapiens.GRCh38.dna_sm.chromosome.4.fa.gz', 'Homo_sapiens.GRCh38.dna_sm.chromosome.5.fa.gz', 'Homo_sapiens.GRCh38.dna_sm.chromosome.6.fa.gz', 'Homo_sapiens.GRCh38.dna_sm.chromosome.7.fa.gz', 'Homo_sapiens.GRCh38.dna_sm.chromosome.8.fa.gz', 'Homo_sapiens.GRCh38.dna_sm.chromosome.9.fa.gz', 'Homo_sapiens.GRCh38.dna_sm.chromosome.10.fa.gz', 'Homo_sapiens.GRCh38.dna_sm.chromosome.11.fa.gz', 'Homo_sapiens.GRCh38.dna_sm.chromosome.12.fa.gz', 'Homo_sapiens.GRCh38.dna_sm.chromosome.13.fa.gz', 'Homo_sapiens.GRCh38.dna_sm.chromosome.14.fa.gz', 'Homo_sapiens.GRCh38.dna_sm.chromosome.15.fa.gz', 'Homo_sapiens.GRCh38.dna_sm.chromosome.16.fa.gz', 'Homo_sapiens.GRCh38.dna_sm.chromosome.17.fa.gz', 'Homo_sapiens.GRCh38.dna_sm.chromosome.18.fa.gz', 'Homo_sapiens.GRCh38.dna_sm.chromosome.19.fa.gz', 'Homo_sapiens.GRCh38.dna_sm.chromosome.20.fa.gz', 'Homo_sapiens.GRCh38.dna_sm.chromosome.21.fa.gz', 'Homo_sapiens.GRCh38.dna_sm.chromosome.22.fa.gz', 'Homo_sapiens.GRCh38.dna_sm.chromosome.MT.fa.gz', 'Homo_sapiens.GRCh38.dna_sm.chromosome.X.fa.gz', 'Homo_sapiens.GRCh38.dna_sm.chromosome.Y.fa.gz', 'Homo_sapiens.GRCh38.dna_sm.nonchromosomal.fa.gz', 'Homo_sapiens.GRCh38.dna_sm.primary_assembly.fa.gz', 'Homo_sapiens.GRCh38.dna_sm.toplevel.fa.gz']\n"
     ]
    }
   ],
   "source": [
    "from bs4 import BeautifulSoup\n",
    "import requests\n",
    "\n",
    "url = 'https://ftp.ensembl.org/pub/release-110/fasta/homo_sapiens/dna/'\n",
    "response = requests.get(url)\n",
    "soup = BeautifulSoup(response.content, 'html.parser')\n",
    "\n",
    "download_links = []\n",
    "for link in soup.find_all('a'):\n",
    "    href = link.get('href')\n",
    "    if href.endswith('.gz'):\n",
    "        download_links.append(href)\n",
    "\n",
    "print(download_links)\n"
   ]
  },
  {
   "cell_type": "code",
   "execution_count": 5,
   "metadata": {},
   "outputs": [
    {
     "data": {
      "text/plain": [
       "list"
      ]
     },
     "execution_count": 5,
     "metadata": {},
     "output_type": "execute_result"
    }
   ],
   "source": [
    "a = list(range(1,19))+['X','Y']\n",
    "type(a)"
   ]
  },
  {
   "cell_type": "code",
   "execution_count": 8,
   "metadata": {},
   "outputs": [],
   "source": [
    "os.mkdir('love/')"
   ]
  },
  {
   "cell_type": "code",
   "execution_count": null,
   "metadata": {},
   "outputs": [],
   "source": []
  }
 ],
 "metadata": {
  "kernelspec": {
   "display_name": ".venv",
   "language": "python",
   "name": "python3"
  },
  "language_info": {
   "codemirror_mode": {
    "name": "ipython",
    "version": 3
   },
   "file_extension": ".py",
   "mimetype": "text/x-python",
   "name": "python",
   "nbconvert_exporter": "python",
   "pygments_lexer": "ipython3",
   "version": "3.11.5"
  }
 },
 "nbformat": 4,
 "nbformat_minor": 2
}
